{
 "cells": [
  {
   "cell_type": "code",
   "execution_count": null,
   "id": "a5c4fd1c",
   "metadata": {},
   "outputs": [],
   "source": [
    "data = [\n",
    "    \"Valve AA has flow rate=0; tunnels lead to valves DD, II, BB\",\n",
    "    \"Valve BB has flow rate=13; tunnels lead to valves CC, AA\",\n",
    "    \"Valve CC has flow rate=2; tunnels lead to valves DD, BB\",\n",
    "    \"Valve DD has flow rate=20; tunnels lead to valves CC, AA, EE\",\n",
    "    \"Valve EE has flow rate=3; tunnels lead to valves FF, DD\",\n",
    "    \"Valve FF has flow rate=0; tunnels lead to valves EE, GG\",\n",
    "    \"Valve GG has flow rate=0; tunnels lead to valves FF, HH\",\n",
    "    \"Valve HH has flow rate=22; tunnel leads to valve GG\",\n",
    "    \"Valve II has flow rate=0; tunnels lead to valves AA, JJ\",\n",
    "    \"Valve JJ has flow rate=21; tunnel leads to valve II\",\n",
    "]"
   ]
  },
  {
   "cell_type": "code",
   "execution_count": null,
   "id": "deccb7ca",
   "metadata": {},
   "outputs": [],
   "source": [
    "def process_line(line):\n",
    "    parts = line.split()\n",
    "    valve = parts[1]\n",
    "    flow_rate = int(parts[4].split('=')[-1].removesuffix(';'))\n",
    "    neighbours = {valve.removesuffix(',') for valve in parts[9:]}\n",
    "    return (valve, (flow_rate, neighbours))"
   ]
  },
  {
   "cell_type": "code",
   "execution_count": null,
   "id": "0c2b5ae1",
   "metadata": {},
   "outputs": [],
   "source": [
    "valves = {}\n",
    "for line in data:\n",
    "    valve, data = process_line(line)\n",
    "    valves[valve] = data"
   ]
  },
  {
   "cell_type": "code",
   "execution_count": null,
   "id": "82f0ade7",
   "metadata": {},
   "outputs": [],
   "source": [
    "valves"
   ]
  },
  {
   "cell_type": "code",
   "execution_count": null,
   "id": "d367ccc7",
   "metadata": {},
   "outputs": [],
   "source": [
    "def calc_pressure_release(open):\n",
    "    return sum(open.values())"
   ]
  },
  {
   "cell_type": "code",
   "execution_count": null,
   "id": "dd82e12a",
   "metadata": {},
   "outputs": [],
   "source": [
    "def navigate(location, time, open, previous_location=None):\n",
    "#     print(f\"{location=} {time=} {open=}\")\n",
    "    if time == 0:\n",
    "        return calc_pressure_release(open)\n",
    "    flow_rate, next_locations = valves[location]\n",
    "    next_locations = [nl for nl in next_locations if nl != previous_location]\n",
    "    if flow_rate > 0 and location not in open:\n",
    "#         time -= 1\n",
    "        open[location] = flow_rate * time\n",
    "    if time == 0:\n",
    "        return calc_pressure_release(open)\n",
    "    if next_locations:\n",
    "        return max(\n",
    "            navigate(next_location, time - 1, open.copy(), previous_location=location)\n",
    "            for next_location in next_locations\n",
    "        )\n",
    "    return calc_pressure_release(open)"
   ]
  },
  {
   "cell_type": "code",
   "execution_count": null,
   "id": "0695cabc",
   "metadata": {},
   "outputs": [],
   "source": [
    "navigate(location='AA', time=30, open={})"
   ]
  },
  {
   "cell_type": "code",
   "execution_count": null,
   "id": "072b48b6",
   "metadata": {},
   "outputs": [],
   "source": [
    "def navigate(location, time, open, previous_location=None):\n",
    "    if time == 0:\n",
    "        return calc_pressure_release(open)\n",
    "    flow_rate, next_locations = valves[location]\n",
    "    if flow_rate > 0 and location not in open:\n",
    "        open[location] = flow_rate * time\n",
    "        return navigate(location, time - 1, open.copy())\n",
    "    if next_locations:\n",
    "        return max(\n",
    "            navigate(next_location, time - 1, open.copy(), previous_location=location)\n",
    "            for next_location in next_locations\n",
    "        )\n",
    "    return calc_pressure_release(open)"
   ]
  },
  {
   "cell_type": "code",
   "execution_count": null,
   "id": "b7444ffb",
   "metadata": {},
   "outputs": [],
   "source": [
    "navigate(location='AA', time=30, open={})"
   ]
  }
 ],
 "metadata": {
  "kernelspec": {
   "display_name": "Python 3 (ipykernel)",
   "language": "python",
   "name": "python3"
  },
  "language_info": {
   "codemirror_mode": {
    "name": "ipython",
    "version": 3
   },
   "file_extension": ".py",
   "mimetype": "text/x-python",
   "name": "python",
   "nbconvert_exporter": "python",
   "pygments_lexer": "ipython3",
   "version": "3.9.5"
  }
 },
 "nbformat": 4,
 "nbformat_minor": 5
}
