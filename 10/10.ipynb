{
 "cells": [
  {
   "cell_type": "code",
   "execution_count": 1,
   "id": "c8fa3c93",
   "metadata": {},
   "outputs": [],
   "source": [
    "from pathlib import Path\n",
    "\n",
    "input_file = Path('input')\n",
    "instructions = input_file.read_text().strip().split('\\n')"
   ]
  },
  {
   "cell_type": "code",
   "execution_count": 2,
   "id": "9d31911b",
   "metadata": {},
   "outputs": [],
   "source": [
    "x = 1\n",
    "cycles = [x]\n",
    "\n",
    "for instruction in instructions:\n",
    "    if instruction == 'noop':\n",
    "        cycles.append(x)\n",
    "    else:\n",
    "        v = int(instruction.split()[-1])\n",
    "        cycles.append(x)\n",
    "        x += v\n",
    "        cycles.append(x)\n",
    "        \n",
    "signal = 0\n",
    "for cycle, x in enumerate(cycles, start=1):\n",
    "    if cycle in {20, 60, 100, 140, 180, 220}:\n",
    "        signal += cycle * x"
   ]
  },
  {
   "cell_type": "code",
   "execution_count": 3,
   "id": "8cb5c936",
   "metadata": {},
   "outputs": [
    {
     "name": "stdout",
     "output_type": "stream",
     "text": [
      "Part 1:\n",
      "12980\n"
     ]
    }
   ],
   "source": [
    "print(\"Part 1:\")\n",
    "print(signal)"
   ]
  },
  {
   "cell_type": "code",
   "execution_count": 4,
   "id": "fc8797d0",
   "metadata": {},
   "outputs": [
    {
     "name": "stdout",
     "output_type": "stream",
     "text": [
      "Part 2:\n",
      "\n",
      "███  ███    ██ █    ████ █  █ █    ███  \n",
      "█  █ █  █    █ █    █    █  █ █    █  █ \n",
      "███  █  █    █ █    ███  █  █ █    █  █ \n",
      "█  █ ███     █ █    █    █  █ █    ███  \n",
      "█  █ █ █  █  █ █    █    █  █ █    █    \n",
      "███  █  █  ██  ████ █     ██  ████ █    \n"
     ]
    }
   ],
   "source": [
    "gen = (x for x in cycles)\n",
    "\n",
    "print(\"Part 2:\")\n",
    "print()\n",
    "\n",
    "for row in range(6):\n",
    "    for col in range(40):\n",
    "        x = next(gen)\n",
    "        if x in {col - 1, col, col + 1}:\n",
    "            print('█', end='')\n",
    "        else:\n",
    "            print(' ', end='')\n",
    "        if col == 39:\n",
    "            print()"
   ]
  }
 ],
 "metadata": {
  "kernelspec": {
   "display_name": "Python 3 (ipykernel)",
   "language": "python",
   "name": "python3"
  },
  "language_info": {
   "codemirror_mode": {
    "name": "ipython",
    "version": 3
   },
   "file_extension": ".py",
   "mimetype": "text/x-python",
   "name": "python",
   "nbconvert_exporter": "python",
   "pygments_lexer": "ipython3",
   "version": "3.9.5"
  }
 },
 "nbformat": 4,
 "nbformat_minor": 5
}
