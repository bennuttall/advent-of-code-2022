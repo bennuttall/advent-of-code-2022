{
 "cells": [
  {
   "cell_type": "code",
   "execution_count": 1,
   "id": "5fc1f334",
   "metadata": {},
   "outputs": [],
   "source": [
    "from pathlib import Path\n",
    "\n",
    "input_file = Path('input')\n",
    "\n",
    "data = [\n",
    "    line.split()\n",
    "    for line in input_file.read_text().strip().split('\\n')\n",
    "]"
   ]
  },
  {
   "cell_type": "code",
   "execution_count": 2,
   "id": "f2b1d539",
   "metadata": {},
   "outputs": [],
   "source": [
    "def move_head(h, d):\n",
    "    x, y = h\n",
    "    return {\n",
    "        'R': (x + 1, y),\n",
    "        'L': (x - 1, y),\n",
    "        'U': (x, y + 1),\n",
    "        'D': (x, y - 1),\n",
    "    }[d]"
   ]
  },
  {
   "cell_type": "code",
   "execution_count": 3,
   "id": "8a80ef19",
   "metadata": {},
   "outputs": [],
   "source": [
    "def move_tail(h, t):\n",
    "    hx, hy = h\n",
    "    tx, ty = t\n",
    "    dx, dy = (hx - tx, hy - ty)\n",
    "    if abs(dx) in (0, 1) and abs(dy) in (0, 1):\n",
    "        return t\n",
    "    mapping = {\n",
    "        2: 1,\n",
    "        -2: -1,\n",
    "    }\n",
    "    return (tx + mapping.get(dx, dx), ty + mapping.get(dy, dy))"
   ]
  },
  {
   "cell_type": "code",
   "execution_count": 4,
   "id": "db1bfaa4",
   "metadata": {},
   "outputs": [],
   "source": [
    "h = (0, 0)\n",
    "t = (0, 0)\n",
    "\n",
    "visited = {(t)}\n",
    "for instruction in data:\n",
    "    d, n = instruction\n",
    "    for i in range(int(n)):\n",
    "        h = move_head(h, d)\n",
    "        t = move_tail(h, t)\n",
    "        visited.add(t)"
   ]
  },
  {
   "cell_type": "code",
   "execution_count": 5,
   "id": "650834d2",
   "metadata": {},
   "outputs": [
    {
     "name": "stdout",
     "output_type": "stream",
     "text": [
      "Part 1:\n",
      "6498\n"
     ]
    }
   ],
   "source": [
    "print(\"Part 1:\")\n",
    "print(len(visited))"
   ]
  },
  {
   "cell_type": "code",
   "execution_count": 6,
   "id": "c8f27965",
   "metadata": {},
   "outputs": [],
   "source": [
    "h = (0, 0)\n",
    "tails = [(0, 0) for t in range(9)]\n",
    "\n",
    "visited = {(tails[-1])}\n",
    "for instruction in data:\n",
    "    d, n = instruction\n",
    "    for i in range(int(n)):\n",
    "        h = move_head(h, d)\n",
    "        prev = h\n",
    "        for ti, t in enumerate(tails):\n",
    "            tails[ti] = move_tail(prev, t)\n",
    "            prev = tails[ti]\n",
    "        visited.add(tails[ti])"
   ]
  },
  {
   "cell_type": "code",
   "execution_count": 7,
   "id": "fbb28567",
   "metadata": {},
   "outputs": [
    {
     "name": "stdout",
     "output_type": "stream",
     "text": [
      "Part 2:\n",
      "2531\n"
     ]
    }
   ],
   "source": [
    "print(\"Part 2:\")\n",
    "print(len(visited))"
   ]
  }
 ],
 "metadata": {
  "kernelspec": {
   "display_name": "Python 3 (ipykernel)",
   "language": "python",
   "name": "python3"
  },
  "language_info": {
   "codemirror_mode": {
    "name": "ipython",
    "version": 3
   },
   "file_extension": ".py",
   "mimetype": "text/x-python",
   "name": "python",
   "nbconvert_exporter": "python",
   "pygments_lexer": "ipython3",
   "version": "3.9.5"
  }
 },
 "nbformat": 4,
 "nbformat_minor": 5
}
