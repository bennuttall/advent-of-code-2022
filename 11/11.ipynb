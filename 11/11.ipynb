{
 "cells": [
  {
   "cell_type": "code",
   "execution_count": 1,
   "id": "2dd2cdd8",
   "metadata": {},
   "outputs": [],
   "source": [
    "from math import floor\n",
    "\n",
    "class Monkey:\n",
    "    def __init__(self, data, part_2=False):\n",
    "        self.part_2 = part_2\n",
    "        d = data.split('\\n')\n",
    "        a, b, c, d, e, f = [line.strip() for line in d]\n",
    "        self.number = int(a[-2])\n",
    "        self.items = [int(n.strip()) for n in b.split(': ')[-1].split(',')]\n",
    "        operation = c.split('= ')[-1].split()\n",
    "        self.operator = operation[1]\n",
    "        self.operation_n = operation[2]\n",
    "        self.test = int(d.split()[-1])\n",
    "        self.true = int(e.split()[-1])\n",
    "        self.false = int(f.split()[-1])\n",
    "        self.items_inspected = 0\n",
    "    \n",
    "    def do_operation(self, item):\n",
    "        item = item % supermod\n",
    "        try:\n",
    "            n = int(self.operation_n)\n",
    "        except ValueError:\n",
    "            n = item\n",
    "        if self.operator == '*':\n",
    "            return item * n\n",
    "        return item + n\n",
    "    \n",
    "    def monkey_around(self):\n",
    "        for item in self.items:\n",
    "            self.items_inspected += 1\n",
    "            new = self.do_operation(item)\n",
    "            if not self.part_2:\n",
    "                new = floor(new / 3)\n",
    "            if (new % self.test) == 0:\n",
    "                monkey = self.true\n",
    "            else:\n",
    "                monkey = self.false\n",
    "            monkeys[monkey].items.append(new)\n",
    "        self.items = []"
   ]
  },
  {
   "cell_type": "code",
   "execution_count": 2,
   "id": "6f4e9ecc",
   "metadata": {},
   "outputs": [],
   "source": [
    "from pathlib import Path\n",
    "\n",
    "input_file = Path('input')\n",
    "data = input_file.read_text().strip().split('\\n\\n')"
   ]
  },
  {
   "cell_type": "code",
   "execution_count": 3,
   "id": "5521bd5f",
   "metadata": {},
   "outputs": [],
   "source": [
    "monkeys = {int(d[7]): Monkey(d) for d in data}\n",
    "\n",
    "supermod = 1\n",
    "for monkey in monkeys.values():\n",
    "    supermod *= monkey.test\n",
    "    \n",
    "for i in range(20):\n",
    "    for monkey in monkeys.values():\n",
    "        monkey.monkey_around()"
   ]
  },
  {
   "cell_type": "code",
   "execution_count": 4,
   "id": "50f327fb",
   "metadata": {},
   "outputs": [],
   "source": [
    "def monkey_business():\n",
    "    items_inspected = sorted(m.items_inspected for m in monkeys.values())\n",
    "    return items_inspected[-1] * items_inspected[-2]"
   ]
  },
  {
   "cell_type": "code",
   "execution_count": 5,
   "id": "050c7693",
   "metadata": {},
   "outputs": [
    {
     "name": "stdout",
     "output_type": "stream",
     "text": [
      "Part 1:\n",
      "61005\n"
     ]
    }
   ],
   "source": [
    "print(\"Part 1:\")\n",
    "print(monkey_business())"
   ]
  },
  {
   "cell_type": "code",
   "execution_count": 6,
   "id": "21704a0c",
   "metadata": {},
   "outputs": [],
   "source": [
    "monkeys = {int(d[7]): Monkey(d, part_2=True) for d in data}\n",
    "    \n",
    "for i in range(10000):\n",
    "    for monkey in monkeys.values():\n",
    "        monkey.monkey_around()"
   ]
  },
  {
   "cell_type": "code",
   "execution_count": 7,
   "id": "a530412b",
   "metadata": {},
   "outputs": [
    {
     "name": "stdout",
     "output_type": "stream",
     "text": [
      "Part 2:\n",
      "20567144694\n"
     ]
    }
   ],
   "source": [
    "print(\"Part 2:\")\n",
    "print(monkey_business())"
   ]
  }
 ],
 "metadata": {
  "kernelspec": {
   "display_name": "Python 3 (ipykernel)",
   "language": "python",
   "name": "python3"
  },
  "language_info": {
   "codemirror_mode": {
    "name": "ipython",
    "version": 3
   },
   "file_extension": ".py",
   "mimetype": "text/x-python",
   "name": "python",
   "nbconvert_exporter": "python",
   "pygments_lexer": "ipython3",
   "version": "3.9.5"
  }
 },
 "nbformat": 4,
 "nbformat_minor": 5
}
