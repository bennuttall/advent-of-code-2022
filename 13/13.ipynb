{
 "cells": [
  {
   "cell_type": "code",
   "execution_count": 1,
   "id": "41f4524d",
   "metadata": {},
   "outputs": [],
   "source": [
    "from pathlib import Path\n",
    "\n",
    "input_file = Path('input')\n",
    "data = [pair.split('\\n') for pair in input_file.read_text().strip().split('\\n\\n')]\n",
    "pairs = {}\n",
    "for i, (a, b) in enumerate(data, start=1):\n",
    "    pairs[i] = (eval(a), eval(b))"
   ]
  },
  {
   "cell_type": "code",
   "execution_count": 2,
   "id": "18cf5b4b",
   "metadata": {},
   "outputs": [],
   "source": [
    "from itertools import zip_longest\n",
    "\n",
    "def compare(a, b):\n",
    "    if a is None:\n",
    "        return True\n",
    "    if b is None:\n",
    "        return False\n",
    "    if type(a) is int:\n",
    "        if type(b) is int:\n",
    "            if a == b:\n",
    "                return\n",
    "            return a < b\n",
    "        if type(b) is list:\n",
    "            return compare([a], b)\n",
    "    if type(a) is list:\n",
    "        if type(b) is list:\n",
    "            for aa, bb in zip_longest(a, b):\n",
    "                c = compare(aa, bb)\n",
    "                if c is None:\n",
    "                    continue\n",
    "                return c\n",
    "        if type(b) is int:\n",
    "            return compare(a, [b])"
   ]
  },
  {
   "cell_type": "code",
   "execution_count": 3,
   "id": "097d8566",
   "metadata": {},
   "outputs": [],
   "source": [
    "assert compare([1,1,3,1,1], [1,1,5,1,1])\n",
    "assert compare([[1],[2,3,4]], [[1],4])\n",
    "assert not compare([9], [[8,7,6]])\n",
    "assert compare([[4,4],4,4], [[4,4],4,4,4])\n",
    "assert not compare([7,7,7,7], [7,7,7])\n",
    "assert compare([], [3])\n",
    "assert not compare([[[]]], [[]])\n",
    "assert not compare([1,[2,[3,[4,[5,6,7]]]],8,9], [1,[2,[3,[4,[5,6,0]]]],8,9])"
   ]
  },
  {
   "cell_type": "code",
   "execution_count": 4,
   "id": "660c91e5",
   "metadata": {},
   "outputs": [
    {
     "name": "stdout",
     "output_type": "stream",
     "text": [
      "Part 1:\n",
      "5882\n"
     ]
    }
   ],
   "source": [
    "print(\"Part 1:\")\n",
    "print(sum([i for i, (a, b) in pairs.items() if compare(a, b)]))"
   ]
  },
  {
   "cell_type": "code",
   "execution_count": 5,
   "id": "7caba5ef",
   "metadata": {},
   "outputs": [],
   "source": [
    "from itertools import chain\n",
    "from functools import cmp_to_key\n",
    "\n",
    "beyond_compare = lambda a, b: -1 if compare(a, b) else 1\n",
    "\n",
    "all_packets = sorted(\n",
    "    list(chain.from_iterable(pairs.values())) + [[[2]], [[6]]],\n",
    "    key=cmp_to_key(beyond_compare)\n",
    ")"
   ]
  },
  {
   "cell_type": "code",
   "execution_count": 6,
   "id": "3098acc9",
   "metadata": {},
   "outputs": [
    {
     "name": "stdout",
     "output_type": "stream",
     "text": [
      "Part 2:\n",
      "24948\n"
     ]
    }
   ],
   "source": [
    "print(\"Part 2:\")\n",
    "print((all_packets.index([[6]]) + 1) * (all_packets.index([[2]]) + 1))"
   ]
  }
 ],
 "metadata": {
  "kernelspec": {
   "display_name": "Python 3 (ipykernel)",
   "language": "python",
   "name": "python3"
  },
  "language_info": {
   "codemirror_mode": {
    "name": "ipython",
    "version": 3
   },
   "file_extension": ".py",
   "mimetype": "text/x-python",
   "name": "python",
   "nbconvert_exporter": "python",
   "pygments_lexer": "ipython3",
   "version": "3.9.5"
  }
 },
 "nbformat": 4,
 "nbformat_minor": 5
}
