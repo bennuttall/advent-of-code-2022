{
 "cells": [
  {
   "cell_type": "code",
   "execution_count": 1,
   "id": "dea188b6",
   "metadata": {},
   "outputs": [],
   "source": [
    "from pathlib import Path\n",
    "\n",
    "input_file = Path('input')\n",
    "grid = input_file.read_text().strip().split('\\n')"
   ]
  },
  {
   "cell_type": "code",
   "execution_count": 2,
   "id": "b106f00c",
   "metadata": {},
   "outputs": [],
   "source": [
    "HEIGHT = len(grid)\n",
    "WIDTH = len(grid[0])\n",
    "\n",
    "def is_visible(x, y):\n",
    "    tree_height = grid[y][x]\n",
    "    \n",
    "    if x in (0, WIDTH-1) or y in (0, HEIGHT-1):\n",
    "        return True\n",
    "    \n",
    "    left = {grid[y][i] for i in range(x)}\n",
    "    if all(h < tree_height for h in left):\n",
    "        return True\n",
    "    \n",
    "    right = {grid[y][i] for i in range(x+1, WIDTH)}\n",
    "    if all(h < tree_height for h in right):\n",
    "        return True\n",
    "    \n",
    "    up = {grid[i][x] for i in range(y)}\n",
    "    if all(h < tree_height for h in up):\n",
    "        return True\n",
    "    \n",
    "    down = {grid[i][x] for i in range(y+1, HEIGHT)}\n",
    "    if all(h < tree_height for h in down):\n",
    "        return True\n",
    "    \n",
    "    return False"
   ]
  },
  {
   "cell_type": "code",
   "execution_count": 3,
   "id": "56b0d6bc",
   "metadata": {},
   "outputs": [
    {
     "name": "stdout",
     "output_type": "stream",
     "text": [
      "Part 1:\n",
      "1823\n"
     ]
    }
   ],
   "source": [
    "print(\"Part 1:\")\n",
    "print(sum([is_visible(x, y) for x in range(WIDTH) for y in range(HEIGHT)]))"
   ]
  },
  {
   "cell_type": "code",
   "execution_count": 4,
   "id": "f55059a4",
   "metadata": {},
   "outputs": [],
   "source": [
    "def scenic_score(x, y):\n",
    "    tree_height = grid[y][x]\n",
    "    \n",
    "    left = 0\n",
    "    for i in range(x):\n",
    "        h = grid[y][x-1-i]\n",
    "        left += 1\n",
    "        if h >= tree_height:\n",
    "            break\n",
    "            \n",
    "    right = 0\n",
    "    for i in range(x+1, WIDTH):\n",
    "        h = grid[y][i]\n",
    "        right += 1\n",
    "        if h >= tree_height:\n",
    "            break\n",
    "    \n",
    "    up = 0\n",
    "    for i in range(y):\n",
    "        h = grid[y-1-i][x]\n",
    "        up += 1\n",
    "        if h >= tree_height:\n",
    "            break\n",
    "            \n",
    "    down = 0\n",
    "    for i in range(y+1, HEIGHT):\n",
    "        h = grid[i][x]\n",
    "        down += 1\n",
    "        if h >= tree_height:\n",
    "            break\n",
    "    \n",
    "    return left * right * up * down"
   ]
  },
  {
   "cell_type": "code",
   "execution_count": 5,
   "id": "f8359afd",
   "metadata": {},
   "outputs": [
    {
     "name": "stdout",
     "output_type": "stream",
     "text": [
      "Part 2:\n",
      "211680\n"
     ]
    }
   ],
   "source": [
    "print(\"Part 2:\")\n",
    "print(max(scenic_score(x, y) for x in range(WIDTH) for y in range(HEIGHT)))"
   ]
  }
 ],
 "metadata": {
  "kernelspec": {
   "display_name": "Python 3 (ipykernel)",
   "language": "python",
   "name": "python3"
  },
  "language_info": {
   "codemirror_mode": {
    "name": "ipython",
    "version": 3
   },
   "file_extension": ".py",
   "mimetype": "text/x-python",
   "name": "python",
   "nbconvert_exporter": "python",
   "pygments_lexer": "ipython3",
   "version": "3.9.5"
  }
 },
 "nbformat": 4,
 "nbformat_minor": 5
}
