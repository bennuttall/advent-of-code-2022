{
 "cells": [
  {
   "cell_type": "code",
   "execution_count": 1,
   "id": "8552e3fe",
   "metadata": {},
   "outputs": [],
   "source": [
    "def manhattan_distance(a, b):\n",
    "    ax, ay = a\n",
    "    bx, by = b\n",
    "    return abs(ax - bx) + abs(ay - by)"
   ]
  },
  {
   "cell_type": "code",
   "execution_count": 2,
   "id": "cc37b470",
   "metadata": {},
   "outputs": [],
   "source": [
    "from functools import cached_property\n",
    "\n",
    "class Sensor:\n",
    "    def __init__(self, line):\n",
    "        parts = line.split()\n",
    "        x = int(parts[2].split('=')[-1].removesuffix(','))\n",
    "        y = int(parts[3].split('=')[-1].removesuffix(':'))\n",
    "        x2 = int(parts[8].split('=')[-1].removesuffix(','))\n",
    "        y2 = int(parts[9].split('=')[-1])\n",
    "        self.pos = (x, y)\n",
    "        self.beacon = (x2, y2)\n",
    "        self.distance = manhattan_distance(self.pos, self.beacon)\n",
    "        \n",
    "    def __repr__(self):\n",
    "        x, y = self.pos\n",
    "        return f\"<Sensor ({x}, {y})>\"\n",
    "    \n",
    "    @property\n",
    "    def not_beacons(self):\n",
    "        x, y = self.pos\n",
    "        for dy in range(y, y + self.distance):\n",
    "            for dx in range(x, x + self.distance):\n",
    "                if manhattan_distance(self.pos, (dx, dy)) < self.distance:\n",
    "                    yield (dx, dy)"
   ]
  },
  {
   "cell_type": "code",
   "execution_count": 3,
   "id": "504bee2d",
   "metadata": {},
   "outputs": [],
   "source": [
    "data = [\n",
    "    \"Sensor at x=2, y=18: closest beacon is at x=-2, y=15\",\n",
    "    \"Sensor at x=9, y=16: closest beacon is at x=10, y=16\",\n",
    "    \"Sensor at x=13, y=2: closest beacon is at x=15, y=3\",\n",
    "    \"Sensor at x=12, y=14: closest beacon is at x=10, y=16\",\n",
    "    \"Sensor at x=10, y=20: closest beacon is at x=10, y=16\",\n",
    "    \"Sensor at x=14, y=17: closest beacon is at x=10, y=16\",\n",
    "    \"Sensor at x=8, y=7: closest beacon is at x=2, y=10\",\n",
    "    \"Sensor at x=2, y=0: closest beacon is at x=2, y=10\",\n",
    "    \"Sensor at x=0, y=11: closest beacon is at x=2, y=10\",\n",
    "    \"Sensor at x=20, y=14: closest beacon is at x=25, y=17\",\n",
    "    \"Sensor at x=17, y=20: closest beacon is at x=21, y=22\",\n",
    "    \"Sensor at x=16, y=7: closest beacon is at x=15, y=3\",\n",
    "    \"Sensor at x=14, y=3: closest beacon is at x=15, y=3\",\n",
    "    \"Sensor at x=20, y=1: closest beacon is at x=15, y=3\",\n",
    "]\n",
    "sensors = [Sensor(line) for line in data]"
   ]
  },
  {
   "cell_type": "code",
   "execution_count": 7,
   "id": "4d5f1360",
   "metadata": {},
   "outputs": [
    {
     "data": {
      "text/plain": [
       "23"
      ]
     },
     "execution_count": 7,
     "metadata": {},
     "output_type": "execute_result"
    }
   ],
   "source": [
    "y = 10\n",
    "not_beacons = set()\n",
    "for x in range(-4, 27):\n",
    "    for sensor in sensors:\n",
    "        pos = (x, y)\n",
    "        if manhattan_distance(pos, sensor.pos) < sensor.distance:\n",
    "            not_beacons.add(pos)\n",
    "len(not_beacons)"
   ]
  },
  {
   "cell_type": "code",
   "execution_count": 8,
   "id": "85144a4f",
   "metadata": {},
   "outputs": [
    {
     "name": "stdout",
     "output_type": "stream",
     "text": [
      "...###B###########.#########..."
     ]
    }
   ],
   "source": [
    "sensor_positions = {sensor.pos for sensor in sensors}\n",
    "beacons = {sensor.beacon for sensor in sensors}\n",
    "\n",
    "for x in range(-4, 27):\n",
    "    if (x, y) in not_beacons:\n",
    "        char = '#'\n",
    "    elif (x, y) in sensor_positions:\n",
    "        char = 'S'\n",
    "    elif (x, y) in beacons:\n",
    "        char = 'B'\n",
    "    else:\n",
    "        char = '.'\n",
    "    print(char, end='')"
   ]
  },
  {
   "cell_type": "code",
   "execution_count": null,
   "id": "cf945107",
   "metadata": {},
   "outputs": [],
   "source": [
    "..####B######################.."
   ]
  }
 ],
 "metadata": {
  "kernelspec": {
   "display_name": "Python 3 (ipykernel)",
   "language": "python",
   "name": "python3"
  },
  "language_info": {
   "codemirror_mode": {
    "name": "ipython",
    "version": 3
   },
   "file_extension": ".py",
   "mimetype": "text/x-python",
   "name": "python",
   "nbconvert_exporter": "python",
   "pygments_lexer": "ipython3",
   "version": "3.9.5"
  }
 },
 "nbformat": 4,
 "nbformat_minor": 5
}
