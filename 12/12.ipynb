{
 "cells": [
  {
   "cell_type": "code",
   "execution_count": 1,
   "id": "a76cda8d",
   "metadata": {},
   "outputs": [],
   "source": [
    "map = [\n",
    "    list(\"Sabqponm\"),\n",
    "    list(\"abcryxxl\"),\n",
    "    list(\"accszExk\"),\n",
    "    list(\"acctuvwj\"),\n",
    "    list(\"abdefghi\"),\n",
    "]"
   ]
  },
  {
   "cell_type": "code",
   "execution_count": null,
   "id": "7347bf50",
   "metadata": {},
   "outputs": [],
   "source": [
    "from pathlib import Path\n",
    "\n",
    "input_file = Path('input')\n",
    "map = [list(line) for line in input_file.read_text().strip().split('\\n')]"
   ]
  },
  {
   "cell_type": "code",
   "execution_count": 2,
   "id": "16150a20",
   "metadata": {},
   "outputs": [
    {
     "data": {
      "text/plain": [
       "((0, 0), (5, 2))"
      ]
     },
     "execution_count": 2,
     "metadata": {},
     "output_type": "execute_result"
    }
   ],
   "source": [
    "def replace_start_and_end_letters():\n",
    "    for y, row in enumerate(map):\n",
    "        for x, char in enumerate(row):\n",
    "            if char == 'S':\n",
    "                map[y][x] = 'a'\n",
    "                S = (x, y)\n",
    "            elif char == 'E':\n",
    "                map[y][x] = 'z'\n",
    "                E = (x, y)\n",
    "    return (S, E)\n",
    "            \n",
    "START, END = replace_start_and_end_letters()\n",
    "START, END"
   ]
  },
  {
   "cell_type": "code",
   "execution_count": 3,
   "id": "7201fbbd",
   "metadata": {},
   "outputs": [],
   "source": [
    "from math import inf\n",
    "\n",
    "all_positions = {(x, y) for y in range(len(map)) for x in range(len(map[0]))}\n",
    "routes = {}\n",
    "\n",
    "def find_route(x, y, visited):\n",
    "    assert (x, y) in all_positions\n",
    "    new_visited = visited.copy()\n",
    "    new_visited.add((x, y))\n",
    "    current = map[y][x]\n",
    "    if (x, y) == END:\n",
    "        return len(new_visited)\n",
    "    possible_moves = {(x, y - 1), (x - 1, y), (x + 1, y), (x, y + 1)} & all_positions - new_visited\n",
    "    max_height = ord(current) + 1\n",
    "    legal_moves = {\n",
    "        (x1, y1)\n",
    "        for (x1, y1) in possible_moves\n",
    "        if ord(map[y1][x1]) <= max_height\n",
    "    }\n",
    "    if len(legal_moves) == 0:\n",
    "        return inf\n",
    "    return min(find_route(x2, y2, new_visited) for (x2, y2) in legal_moves)"
   ]
  },
  {
   "cell_type": "code",
   "execution_count": 4,
   "id": "4d48ef07",
   "metadata": {},
   "outputs": [
    {
     "name": "stdout",
     "output_type": "stream",
     "text": [
      "Part 1:\n",
      "31\n"
     ]
    }
   ],
   "source": [
    "visited = set()\n",
    "print(\"Part 1:\")\n",
    "x, y = START\n",
    "print(find_route(x, y, visited) - 1)"
   ]
  },
  {
   "cell_type": "code",
   "execution_count": null,
   "id": "2fb36652",
   "metadata": {},
   "outputs": [],
   "source": []
  }
 ],
 "metadata": {
  "kernelspec": {
   "display_name": "Python 3 (ipykernel)",
   "language": "python",
   "name": "python3"
  },
  "language_info": {
   "codemirror_mode": {
    "name": "ipython",
    "version": 3
   },
   "file_extension": ".py",
   "mimetype": "text/x-python",
   "name": "python",
   "nbconvert_exporter": "python",
   "pygments_lexer": "ipython3",
   "version": "3.9.5"
  }
 },
 "nbformat": 4,
 "nbformat_minor": 5
}
