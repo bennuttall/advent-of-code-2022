{
 "cells": [
  {
   "cell_type": "code",
   "execution_count": 1,
   "id": "0f8a573b",
   "metadata": {},
   "outputs": [],
   "source": [
    "from pathlib import Path\n",
    "\n",
    "input_file = Path('input')\n",
    "a, b = input_file.read_text().split('\\n\\n')\n",
    "\n",
    "stacks = [[] for i in range(9)]\n",
    "for line in a.split('\\n')[::-1][1:]:\n",
    "    row = [line[i] for i in range(1, 37, 4)]\n",
    "    for i, crate in enumerate(row):\n",
    "        if crate.strip():\n",
    "            stacks[i].append(crate)\n",
    "\n",
    "instructions = [\n",
    "    tuple([int(line[1]), int(line[3]) - 1, int(line[5]) - 1])\n",
    "    for line in [line.split() for line in b.split('\\n') if line]\n",
    "]"
   ]
  },
  {
   "cell_type": "code",
   "execution_count": 2,
   "id": "d8103bc7",
   "metadata": {},
   "outputs": [],
   "source": [
    "import copy\n",
    "\n",
    "def cratemover_9000(stacks):\n",
    "    stacks = copy.deepcopy(stacks)\n",
    "    for n, src, dest in instructions:\n",
    "        moving_crates = [stacks[src].pop() for i in range(n)]\n",
    "        stacks[dest].extend(moving_crates)\n",
    "    return stacks"
   ]
  },
  {
   "cell_type": "code",
   "execution_count": 3,
   "id": "a2914b78",
   "metadata": {
    "scrolled": true
   },
   "outputs": [
    {
     "name": "stdout",
     "output_type": "stream",
     "text": [
      "Part 1:\n",
      "FWNSHLDNZ\n"
     ]
    }
   ],
   "source": [
    "print(\"Part 1:\")\n",
    "print(''.join(stack[-1] for stack in cratemover_9000(stacks)))"
   ]
  },
  {
   "cell_type": "code",
   "execution_count": 4,
   "id": "9a6934c9",
   "metadata": {},
   "outputs": [],
   "source": [
    "def cratemover_9001(stacks):\n",
    "    stacks = copy.deepcopy(stacks)\n",
    "    for n, src, dest in instructions:\n",
    "        moving_crates = reversed([stacks[src].pop() for i in range(n)])\n",
    "        stacks[dest].extend(moving_crates)\n",
    "    return stacks"
   ]
  },
  {
   "cell_type": "code",
   "execution_count": 5,
   "id": "f44ad706",
   "metadata": {},
   "outputs": [
    {
     "name": "stdout",
     "output_type": "stream",
     "text": [
      "Part 2:\n",
      "RNRGDNFQG\n"
     ]
    }
   ],
   "source": [
    "print(\"Part 2:\")\n",
    "print(''.join(stack[-1] for stack in cratemover_9001(stacks)))"
   ]
  }
 ],
 "metadata": {
  "kernelspec": {
   "display_name": "Python 3 (ipykernel)",
   "language": "python",
   "name": "python3"
  },
  "language_info": {
   "codemirror_mode": {
    "name": "ipython",
    "version": 3
   },
   "file_extension": ".py",
   "mimetype": "text/x-python",
   "name": "python",
   "nbconvert_exporter": "python",
   "pygments_lexer": "ipython3",
   "version": "3.9.5"
  }
 },
 "nbformat": 4,
 "nbformat_minor": 5
}
