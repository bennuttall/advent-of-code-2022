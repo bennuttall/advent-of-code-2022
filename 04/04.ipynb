{
 "cells": [
  {
   "cell_type": "code",
   "execution_count": 1,
   "id": "6c398275",
   "metadata": {},
   "outputs": [],
   "source": [
    "from pathlib import Path\n",
    "\n",
    "input_file = Path('input')\n",
    "data = []\n",
    "for line in input_file.read_text().split('\\n'):\n",
    "    if line:\n",
    "        a, b = line.split(',')\n",
    "        aa, bb = [int(i) for i in a.split('-')]\n",
    "        cc, dd = [int(i) for i in b.split('-')]\n",
    "        data.append([set(range(aa, bb + 1)), set(range(cc, dd + 1))])"
   ]
  },
  {
   "cell_type": "code",
   "execution_count": 2,
   "id": "e46a1381",
   "metadata": {},
   "outputs": [],
   "source": [
    "def overlaps_completely(a, b):\n",
    "    return a <= b or b <= a"
   ]
  },
  {
   "cell_type": "code",
   "execution_count": 3,
   "id": "4b58a365",
   "metadata": {},
   "outputs": [
    {
     "name": "stdout",
     "output_type": "stream",
     "text": [
      "Part 1:\n",
      "536\n"
     ]
    }
   ],
   "source": [
    "print(\"Part 1:\")\n",
    "print(len([1 for a, b in data if overlaps_completely(a, b)]))"
   ]
  },
  {
   "cell_type": "code",
   "execution_count": 4,
   "id": "5fdac39b",
   "metadata": {},
   "outputs": [],
   "source": [
    "def overlaps(a, b):\n",
    "    return len(a & b) > 0"
   ]
  },
  {
   "cell_type": "code",
   "execution_count": 5,
   "id": "dffce55a",
   "metadata": {},
   "outputs": [
    {
     "name": "stdout",
     "output_type": "stream",
     "text": [
      "Part 2:\n",
      "845\n"
     ]
    }
   ],
   "source": [
    "print(\"Part 2:\")\n",
    "print(len([1 for a, b in data if overlaps(a, b)]))"
   ]
  }
 ],
 "metadata": {
  "kernelspec": {
   "display_name": "Python 3 (ipykernel)",
   "language": "python",
   "name": "python3"
  },
  "language_info": {
   "codemirror_mode": {
    "name": "ipython",
    "version": 3
   },
   "file_extension": ".py",
   "mimetype": "text/x-python",
   "name": "python",
   "nbconvert_exporter": "python",
   "pygments_lexer": "ipython3",
   "version": "3.9.5"
  }
 },
 "nbformat": 4,
 "nbformat_minor": 5
}
