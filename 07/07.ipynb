{
 "cells": [
  {
   "cell_type": "code",
   "execution_count": 1,
   "id": "4e48af26",
   "metadata": {},
   "outputs": [],
   "source": [
    "from pathlib import Path\n",
    "\n",
    "input_file = Path('input')\n",
    "\n",
    "data = input_file.read_text().strip().split('\\n')"
   ]
  },
  {
   "cell_type": "code",
   "execution_count": 2,
   "id": "5e1c4d05",
   "metadata": {},
   "outputs": [],
   "source": [
    "from collections import defaultdict\n",
    "from pprint import pprint\n",
    "\n",
    "pwd = []\n",
    "dirs = defaultdict(int)\n",
    "for line in data:\n",
    "    if line.startswith('$'):\n",
    "        if line.startswith('$ cd '):\n",
    "            dir = line.split()[-1]\n",
    "            if dir == '/':\n",
    "                pwd = ['/']\n",
    "            elif dir == '..':\n",
    "                pwd.pop()\n",
    "            else:\n",
    "                pwd.append(dir)\n",
    "    else:\n",
    "        a, b = line.split()\n",
    "        if a != 'dir':\n",
    "            for i in range(len(pwd)):\n",
    "                dirs[tuple(pwd[:i+1])] += int(a)"
   ]
  },
  {
   "cell_type": "code",
   "execution_count": 3,
   "id": "78297c91",
   "metadata": {},
   "outputs": [
    {
     "name": "stdout",
     "output_type": "stream",
     "text": [
      "Part 1:\n",
      "1783610\n"
     ]
    }
   ],
   "source": [
    "print(\"Part 1:\")\n",
    "print(sum([size for size in dirs.values() if size <= 100000]))"
   ]
  },
  {
   "cell_type": "code",
   "execution_count": 4,
   "id": "34914053",
   "metadata": {},
   "outputs": [
    {
     "name": "stdout",
     "output_type": "stream",
     "text": [
      "Part 2:\n",
      "4370655\n"
     ]
    }
   ],
   "source": [
    "disk_size = 70_000_000\n",
    "disk_used = dirs[('/', )]\n",
    "required_free_space = 30_000_000\n",
    "target = disk_size - required_free_space\n",
    "deletion_required = disk_used - target\n",
    "\n",
    "print(\"Part 2:\")\n",
    "print(sorted([size for size in dirs.values() if size >= deletion_required])[0])"
   ]
  }
 ],
 "metadata": {
  "kernelspec": {
   "display_name": "Python 3 (ipykernel)",
   "language": "python",
   "name": "python3"
  },
  "language_info": {
   "codemirror_mode": {
    "name": "ipython",
    "version": 3
   },
   "file_extension": ".py",
   "mimetype": "text/x-python",
   "name": "python",
   "nbconvert_exporter": "python",
   "pygments_lexer": "ipython3",
   "version": "3.9.5"
  }
 },
 "nbformat": 4,
 "nbformat_minor": 5
}
