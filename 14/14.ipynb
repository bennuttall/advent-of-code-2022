{
 "cells": [
  {
   "cell_type": "code",
   "execution_count": 51,
   "id": "b022398a",
   "metadata": {},
   "outputs": [],
   "source": [
    "def process_line(line):\n",
    "    return [\n",
    "        (int(pos[0]), int(pos[1]))\n",
    "        for pos in\n",
    "        [pos.split(',') for pos in line.split(' -> ')]\n",
    "    ]\n",
    "    \n",
    "data = [\n",
    "    process_line(line)\n",
    "    for line in [\n",
    "        \"498,4 -> 498,6 -> 496,6\",\n",
    "        \"503,4 -> 502,4 -> 502,9 -> 494,9\",\n",
    "    ]\n",
    "]"
   ]
  },
  {
   "cell_type": "code",
   "execution_count": 52,
   "id": "2cfb5db3",
   "metadata": {},
   "outputs": [],
   "source": [
    "from pathlib import Path\n",
    "\n",
    "input_file = Path('input')\n",
    "data = [\n",
    "    process_line(line)\n",
    "    for line in input_file.read_text().strip().split('\\n')\n",
    "]"
   ]
  },
  {
   "cell_type": "code",
   "execution_count": 15,
   "id": "ebf478b1",
   "metadata": {},
   "outputs": [],
   "source": [
    "from itertools import tee\n",
    "\n",
    "def pairwise(iterable):\n",
    "    \"s -> (s0,s1), (s1,s2), (s2, s3), ...\"\n",
    "    a, b = tee(iterable)\n",
    "    next(b, None)\n",
    "    return zip(a, b)"
   ]
  },
  {
   "cell_type": "code",
   "execution_count": 16,
   "id": "ed4ac059",
   "metadata": {},
   "outputs": [],
   "source": [
    "def place_rocks():\n",
    "    rocks = set()\n",
    "    for line in data:\n",
    "        for ((x1, y1), (x2, y2)) in pairwise(line):\n",
    "            if x1 == x2:\n",
    "                rocks |= {(x1, yi) for yi in range(min([y1, y2]), max([y1, y2]) + 1)}\n",
    "            elif y1 == y2:\n",
    "                rocks |= {(xi, y1) for xi in range(min([x1, x2]), max([x1, x2]) + 1)}\n",
    "    return rocks"
   ]
  },
  {
   "cell_type": "code",
   "execution_count": 17,
   "id": "3440f426",
   "metadata": {},
   "outputs": [],
   "source": [
    "def draw_map():\n",
    "    for y in range(15):\n",
    "        for x in range(485, 525):\n",
    "            if (x, y) in rocks:\n",
    "                char = '#'\n",
    "            elif (x, y) in sand:\n",
    "                char = 'o'\n",
    "            else:\n",
    "                char = '.'\n",
    "            print(char, end='')\n",
    "        print()"
   ]
  },
  {
   "cell_type": "code",
   "execution_count": 18,
   "id": "c39827f9",
   "metadata": {},
   "outputs": [],
   "source": [
    "def sand_fall_once(pos):\n",
    "    x, y = pos\n",
    "    sand.discard(pos)\n",
    "    filled = rocks | sand\n",
    "    down = (x, y + 1)\n",
    "    left = (x - 1, y + 1)\n",
    "    right = (x + 1, y + 1)\n",
    "    for nxt in (down, left, right):\n",
    "        if nxt not in filled:\n",
    "            sand.add(nxt)\n",
    "            return nxt\n",
    "    sand.add(pos)\n",
    "    return pos"
   ]
  },
  {
   "cell_type": "code",
   "execution_count": 19,
   "id": "ed8b81ed",
   "metadata": {},
   "outputs": [],
   "source": [
    "class TheAbyss(Exception):\n",
    "    pass\n",
    "\n",
    "def sand_fall_until_stop():\n",
    "    pos = (500, 0)\n",
    "    while True:\n",
    "        if (new_pos := sand_fall_once(pos)) == pos:\n",
    "            return\n",
    "        x, y = new_pos\n",
    "        if y == ABYSS:\n",
    "            sand.discard(new_pos)\n",
    "            raise TheAbyss()\n",
    "        pos = new_pos"
   ]
  },
  {
   "cell_type": "code",
   "execution_count": 33,
   "id": "70041a49",
   "metadata": {},
   "outputs": [
    {
     "name": "stdout",
     "output_type": "stream",
     "text": [
      "Part 1:\n",
      "24\n"
     ]
    }
   ],
   "source": [
    "rocks = place_rocks()\n",
    "ABYSS = max(y for (x, y) in rocks) + 1\n",
    "sand = set()\n",
    "while True:\n",
    "    try:\n",
    "        sand_fall_until_stop()\n",
    "    except TheAbyss:\n",
    "        break\n",
    "        \n",
    "print(\"Part 1:\")\n",
    "print(len(sand))"
   ]
  },
  {
   "cell_type": "code",
   "execution_count": 47,
   "id": "6020e1a9",
   "metadata": {},
   "outputs": [],
   "source": [
    "def sand_fall_once_2(pos):\n",
    "    x, y = pos\n",
    "    sand.discard(pos)\n",
    "    filled = rocks | sand\n",
    "    down = (x, y + 1)\n",
    "    left = (x - 1, y + 1)\n",
    "    right = (x + 1, y + 1)\n",
    "    for nxt in (down, left, right):\n",
    "        nx, ny = nxt\n",
    "        if ny <= FLOOR and nxt not in filled:\n",
    "            sand.add(nxt)\n",
    "            return nxt\n",
    "    sand.add(pos)\n",
    "    return pos"
   ]
  },
  {
   "cell_type": "code",
   "execution_count": 48,
   "id": "9e44f48f",
   "metadata": {},
   "outputs": [],
   "source": [
    "class SandOverflow(Exception):\n",
    "    pass\n",
    "\n",
    "ENTRY = (500, 0)\n",
    "\n",
    "def sand_fall_until_stop_2():\n",
    "    pos = ENTRY\n",
    "    while True:\n",
    "        if (new_pos := sand_fall_once_2(pos)) == pos:\n",
    "            if new_pos == ENTRY:\n",
    "                raise SandOverflow()\n",
    "            return\n",
    "        pos = new_pos"
   ]
  },
  {
   "cell_type": "code",
   "execution_count": 53,
   "id": "4afa9269",
   "metadata": {},
   "outputs": [
    {
     "name": "stdout",
     "output_type": "stream",
     "text": [
      "Part 2:\n",
      "25585\n"
     ]
    }
   ],
   "source": [
    "rocks = place_rocks()\n",
    "FLOOR = max(y for (x, y) in rocks) + 1\n",
    "sand = set()\n",
    "while True:\n",
    "    sand_before = len(sand)\n",
    "    try:\n",
    "        sand_fall_until_stop_2()\n",
    "    except SandOverflow:\n",
    "        break\n",
    "    sand_after = len(sand)\n",
    "    if sand_before == sand_after:\n",
    "        break\n",
    "        \n",
    "print(\"Part 2:\")\n",
    "print(len(sand))"
   ]
  }
 ],
 "metadata": {
  "kernelspec": {
   "display_name": "Python 3 (ipykernel)",
   "language": "python",
   "name": "python3"
  },
  "language_info": {
   "codemirror_mode": {
    "name": "ipython",
    "version": 3
   },
   "file_extension": ".py",
   "mimetype": "text/x-python",
   "name": "python",
   "nbconvert_exporter": "python",
   "pygments_lexer": "ipython3",
   "version": "3.9.5"
  }
 },
 "nbformat": 4,
 "nbformat_minor": 5
}
