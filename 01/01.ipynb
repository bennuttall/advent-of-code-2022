{
 "cells": [
  {
   "cell_type": "code",
   "execution_count": 1,
   "id": "f1645939",
   "metadata": {},
   "outputs": [],
   "source": [
    "from pathlib import Path"
   ]
  },
  {
   "cell_type": "code",
   "execution_count": 2,
   "id": "1d986543",
   "metadata": {},
   "outputs": [],
   "source": [
    "input_file = Path('input')\n",
    "elves = [\n",
    "    sum(int(n) for n in elf.split('\\n') if n)\n",
    "    for elf in input_file.read_text().split('\\n\\n')\n",
    "]"
   ]
  },
  {
   "cell_type": "code",
   "execution_count": 3,
   "id": "7ca8ead5",
   "metadata": {},
   "outputs": [
    {
     "name": "stdout",
     "output_type": "stream",
     "text": [
      "Part 1:\n",
      "69528\n"
     ]
    }
   ],
   "source": [
    "print(\"Part 1:\")\n",
    "print(max(elves))"
   ]
  },
  {
   "cell_type": "code",
   "execution_count": 4,
   "id": "010ee53b",
   "metadata": {},
   "outputs": [
    {
     "name": "stdout",
     "output_type": "stream",
     "text": [
      "Part 2:\n",
      "123793\n"
     ]
    }
   ],
   "source": [
    "print(\"Part 2:\")\n",
    "print(sum(sorted(elves[-3:])))"
   ]
  }
 ],
 "metadata": {
  "kernelspec": {
   "display_name": "Python 3 (ipykernel)",
   "language": "python",
   "name": "python3"
  },
  "language_info": {
   "codemirror_mode": {
    "name": "ipython",
    "version": 3
   },
   "file_extension": ".py",
   "mimetype": "text/x-python",
   "name": "python",
   "nbconvert_exporter": "python",
   "pygments_lexer": "ipython3",
   "version": "3.9.5"
  }
 },
 "nbformat": 4,
 "nbformat_minor": 5
}
