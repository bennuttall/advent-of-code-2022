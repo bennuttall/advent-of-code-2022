{
 "cells": [
  {
   "cell_type": "code",
   "execution_count": 1,
   "id": "1d18aca2",
   "metadata": {},
   "outputs": [],
   "source": [
    "from pathlib import Path\n",
    "\n",
    "input_file = Path('input')\n",
    "data = input_file.read_text().split()"
   ]
  },
  {
   "cell_type": "code",
   "execution_count": 2,
   "id": "3cd80283",
   "metadata": {},
   "outputs": [],
   "source": [
    "def get_bag_priority(bag):\n",
    "    p = int(len(bag)/2)\n",
    "    a, b = set(bag[:p]), set(bag[p:])\n",
    "    shared = list(a & b)[0]\n",
    "    return get_badge_priority(shared)"
   ]
  },
  {
   "cell_type": "code",
   "execution_count": 3,
   "id": "7fbfc70f",
   "metadata": {},
   "outputs": [],
   "source": [
    "from string import ascii_letters\n",
    "\n",
    "def get_badge_priority(badge):\n",
    "    return ascii_letters.index(badge) + 1"
   ]
  },
  {
   "cell_type": "code",
   "execution_count": 4,
   "id": "2f7b8b3a",
   "metadata": {},
   "outputs": [
    {
     "name": "stdout",
     "output_type": "stream",
     "text": [
      "Part 1:\n",
      "8243\n"
     ]
    }
   ],
   "source": [
    "print(\"Part 1:\")\n",
    "print(sum(get_bag_priority(bag) for bag in data))"
   ]
  },
  {
   "cell_type": "code",
   "execution_count": 5,
   "id": "151a4177",
   "metadata": {},
   "outputs": [],
   "source": [
    "from itertools import zip_longest\n",
    "\n",
    "def grouper(iterable, n, fillvalue=None):\n",
    "    \"Collect data into fixed-length chunks or blocks\"\n",
    "    # grouper('ABCDEFG', 3, 'x') --> ABC DEF Gxx\"\n",
    "    args = [iter(iterable)] * n\n",
    "    return zip_longest(*args, fillvalue=fillvalue)"
   ]
  },
  {
   "cell_type": "code",
   "execution_count": 6,
   "id": "ed444444",
   "metadata": {},
   "outputs": [],
   "source": [
    "def get_group_priority(a, b, c):\n",
    "    shared = list(set(a) & set(b) & set(c))[0]\n",
    "    return get_badge_priority(shared)"
   ]
  },
  {
   "cell_type": "code",
   "execution_count": 7,
   "id": "731cd692",
   "metadata": {},
   "outputs": [
    {
     "name": "stdout",
     "output_type": "stream",
     "text": [
      "Part 2:\n",
      "2631\n"
     ]
    }
   ],
   "source": [
    "print(\"Part 2:\")\n",
    "print(sum(get_group_priority(a, b, c) for a, b, c in grouper(data, 3)))"
   ]
  }
 ],
 "metadata": {
  "kernelspec": {
   "display_name": "Python 3 (ipykernel)",
   "language": "python",
   "name": "python3"
  },
  "language_info": {
   "codemirror_mode": {
    "name": "ipython",
    "version": 3
   },
   "file_extension": ".py",
   "mimetype": "text/x-python",
   "name": "python",
   "nbconvert_exporter": "python",
   "pygments_lexer": "ipython3",
   "version": "3.9.5"
  }
 },
 "nbformat": 4,
 "nbformat_minor": 5
}
