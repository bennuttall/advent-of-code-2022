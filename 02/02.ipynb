{
 "cells": [
  {
   "cell_type": "code",
   "execution_count": 1,
   "id": "c4a69a69",
   "metadata": {},
   "outputs": [],
   "source": [
    "from pathlib import Path"
   ]
  },
  {
   "cell_type": "code",
   "execution_count": 2,
   "id": "7c65d484",
   "metadata": {},
   "outputs": [],
   "source": [
    "input_file = Path('input')\n",
    "data = [row.split() for row in input_file.read_text().split('\\n') if row]"
   ]
  },
  {
   "cell_type": "code",
   "execution_count": 3,
   "id": "b4afed45",
   "metadata": {},
   "outputs": [],
   "source": [
    "mapping_abc = {\n",
    "    'A': 'R',\n",
    "    'B': 'P',\n",
    "    'C': 'S',\n",
    "}\n",
    "\n",
    "mapping_xyz = {\n",
    "    'X': 'R',\n",
    "    'Y': 'P',\n",
    "    'Z': 'S',\n",
    "}"
   ]
  },
  {
   "cell_type": "code",
   "execution_count": 4,
   "id": "cc0b11c9",
   "metadata": {},
   "outputs": [],
   "source": [
    "basic_score = {\n",
    "    'R': 1,\n",
    "    'P': 2,\n",
    "    'S': 3,\n",
    "}"
   ]
  },
  {
   "cell_type": "code",
   "execution_count": 5,
   "id": "47d67635",
   "metadata": {},
   "outputs": [],
   "source": [
    "def bonus(a, b):\n",
    "    if a == b:\n",
    "        return 3\n",
    "    wins = {('R', 'S'), ('S', 'P'), ('P', 'R')}\n",
    "    if (b, a) in wins:\n",
    "        return 6\n",
    "    if (a, b) in wins:\n",
    "        return 0"
   ]
  },
  {
   "cell_type": "code",
   "execution_count": 6,
   "id": "52976ee7",
   "metadata": {},
   "outputs": [],
   "source": [
    "def play(a, b):\n",
    "    a = mapping_abc[a]\n",
    "    b = mapping_xyz[b]\n",
    "    return basic_score[b] + bonus(a, b)"
   ]
  },
  {
   "cell_type": "code",
   "execution_count": 7,
   "id": "86f2d33a",
   "metadata": {},
   "outputs": [
    {
     "name": "stdout",
     "output_type": "stream",
     "text": [
      "Part 1:\n",
      "10994\n"
     ]
    }
   ],
   "source": [
    "score = sum(play(a, b) for a, b in data)\n",
    "print(\"Part 1:\")\n",
    "print(score)"
   ]
  },
  {
   "cell_type": "code",
   "execution_count": 8,
   "id": "c48755f1",
   "metadata": {},
   "outputs": [],
   "source": [
    "def calc_move(a, b):\n",
    "    if b == 'X':\n",
    "        # lose\n",
    "        return {'R': 'S', 'P': 'R', 'S': 'P'}[a]\n",
    "    if b == 'Y':\n",
    "        # draw\n",
    "        return a\n",
    "    if b == 'Z':\n",
    "        # win\n",
    "        return {'R': 'P', 'P': 'S', 'S': 'R'}[a]"
   ]
  },
  {
   "cell_type": "code",
   "execution_count": 9,
   "id": "fc35bd80",
   "metadata": {},
   "outputs": [],
   "source": [
    "def play2(a, b):\n",
    "    a = mapping_abc[a]\n",
    "    b = calc_move(a, b)\n",
    "    return basic_score[b] + bonus(a, b)"
   ]
  },
  {
   "cell_type": "code",
   "execution_count": 10,
   "id": "98e05c37",
   "metadata": {},
   "outputs": [
    {
     "name": "stdout",
     "output_type": "stream",
     "text": [
      "Part 2:\n",
      "12526\n"
     ]
    }
   ],
   "source": [
    "score = sum(play2(a, b) for a, b in data)\n",
    "print(\"Part 2:\")\n",
    "print(score)"
   ]
  }
 ],
 "metadata": {
  "kernelspec": {
   "display_name": "Python 3 (ipykernel)",
   "language": "python",
   "name": "python3"
  },
  "language_info": {
   "codemirror_mode": {
    "name": "ipython",
    "version": 3
   },
   "file_extension": ".py",
   "mimetype": "text/x-python",
   "name": "python",
   "nbconvert_exporter": "python",
   "pygments_lexer": "ipython3",
   "version": "3.9.5"
  }
 },
 "nbformat": 4,
 "nbformat_minor": 5
}
